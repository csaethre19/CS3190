{
 "cells": [
  {
   "cell_type": "markdown",
   "metadata": {},
   "source": [
    "### Problem 1:\n",
    "Set of three sites: S = $\\{s_1=(-3,-1), s_2=(1,1), s_3=(-2,2)\\} \\subset \\mathbb{R}^2 \\\\$\n",
    "Five data points: X = $\\{x_1=(-2,0), x_2=(-2,1), x_3=(-1,1), x_4=(0,0), x_5=(-3,-2)\\}$"
   ]
  },
  {
   "cell_type": "code",
   "execution_count": 20,
   "metadata": {},
   "outputs": [],
   "source": [
    "import numpy as np \n",
    "import matplotlib.pyplot as plt"
   ]
  },
  {
   "cell_type": "code",
   "execution_count": 21,
   "metadata": {},
   "outputs": [],
   "source": [
    "S = np.array([[-3,-1],[1,1],[-2,3]])\n",
    "X = np.array([[-2,0],[-2,1],[-1,1],[0,0],[-3,-2]])"
   ]
  },
  {
   "cell_type": "code",
   "execution_count": 22,
   "metadata": {},
   "outputs": [
    {
     "data": {
      "image/png": "[encoded data removed]",
      "text/plain": [
       "<Figure size 432x288 with 1 Axes>"
      ]
     },
     "metadata": {
      "needs_background": "light"
     },
     "output_type": "display_data"
    }
   ],
   "source": [
    "\n",
    "for i in range(0,X.shape[0]):\n",
    "    plt.scatter(X[i][0], X[i][1], color='blue')\n",
    "    plt.text(X[i][0], X[i][1], 'x{}'.format(i+1))\n",
    "for i in range (0,S.shape[0]):\n",
    "    plt.scatter(S[i][0],S[i][1], color='red',s=100)\n",
    "    plt.text(S[i][0],S[i][1], 's{}'.format(i+1))\n",
    "\n",
    "plt.show()"
   ]
  },
  {
   "cell_type": "markdown",
   "metadata": {},
   "source": [
    "$f_i(alph_0,alph_1,alph_2,alph_3) = (y_i - (alph_0+alph_1 x_{i,1} + alph_2 x_{i,2} + alph_3 x_{i,3}))^2$"
   ]
  },
  {
   "cell_type": "markdown",
   "metadata": {},
   "source": [
    "$f_i(alph_0,alph_1,alph_2,alph_3) = -2 (y_i - (alph_0+alph_1 x_{i1} + alph_2 x_{i2}+ alph_3 x_{i3})) [1 x_{i1} x_{i2} x_{i3}]^T $"
   ]
  },
  {
   "cell_type": "code",
   "execution_count": 23,
   "metadata": {},
   "outputs": [],
   "source": [
    "def assignSite(xi, S):\n",
    "    s1 = S[0]\n",
    "    s_star = s1\n",
    "    for i in range(S.shape[0]):\n",
    "        newDistance = S[i] - xi\n",
    "        normNewDistance = newDistance[0]**2 + newDistance[1]**2\n",
    "        starDistance = s_star - xi\n",
    "        normStarDistance = starDistance[0]**2 + starDistance[1]**2\n",
    "        if normNewDistance < normStarDistance:\n",
    "            s_star = S[i]\n",
    "\n",
    "    return s_star"
   ]
  },
  {
   "cell_type": "markdown",
   "metadata": {},
   "source": [
    "### a). - e).\n",
    "Computing closest sites for each $x_i$ udner euclidean distance:"
   ]
  },
  {
   "cell_type": "code",
   "execution_count": 24,
   "metadata": {},
   "outputs": [
    {
     "name": "stdout",
     "output_type": "stream",
     "text": [
      "{'x1': array([-3, -1]), 'x2': array([-2,  3]), 'x3': array([1, 1]), 'x4': array([1, 1]), 'x5': array([-3, -1])}\n"
     ]
    }
   ],
   "source": [
    "assignments = {}\n",
    "for i in range(0,X.shape[0]):\n",
    "    s_star = assignSite(X[i], S)\n",
    "    assignments['x{}'.format(i+1)] = s_star\n",
    "\n",
    "print(assignments)"
   ]
  },
  {
   "cell_type": "markdown",
   "metadata": {},
   "source": [
    "f). Probabilty density function - liklihood fj(x) for each Guassian $\\\\$\n",
    "\n",
    "$f_1(x) = \\frac{1}{2\\pi\\sigma_1}exp(\\frac{-1}{2\\sigma_1^2}(|| x - \\mu_1 ||^2))\\\\ $\n",
    "$f_2(x) = \\frac{1}{2\\pi\\sigma_2}exp(\\frac{-1}{2\\sigma_2^2}(|| x - \\mu_2 ||^2))\\\\ $\n",
    "$f_3(x) = \\frac{1}{2\\pi\\sigma_3}exp(\\frac{-1}{2\\sigma_3^2}(|| x - \\mu_3 ||^2))\\\\ $\n",
    "\n",
    "$ w_j(x) = \\frac{f_j(x)}{\\sum\\limits_{k=1}^{3}(f_j(x))} $"
   ]
  },
  {
   "cell_type": "code",
   "execution_count": 25,
   "metadata": {},
   "outputs": [],
   "source": [
    "def liklihood(x, mue, sigma):\n",
    "    ''' x and mue are both vectors. sigma is a scalar. '''\n",
    "    distance = x - mue\n",
    "    distanceSquared = distance[0]**2 + distance[1]**2\n",
    "    return (1/(2*np.pi*sigma)) * np.exp(-(1/(2*sigma))*distanceSquared)"
   ]
  },
  {
   "cell_type": "markdown",
   "metadata": {},
   "source": [
    "### g). - k).\n",
    "Soft assignment:"
   ]
  },
  {
   "cell_type": "code",
   "execution_count": 26,
   "metadata": {},
   "outputs": [
    {
     "name": "stdout",
     "output_type": "stream",
     "text": [
      "w_1 = [0.94279284 0.02159803 0.03560913]\n",
      "w_2 = [0.1149387  0.06713914 0.81792216]\n",
      "w_3 = [0.00562408 0.61895857 0.37541735]\n",
      "w_4 = [5.36020851e-04 9.95396023e-01 4.06795604e-03]\n",
      "w_5 = [9.99991830e-01 5.08546726e-06 3.08449181e-06]\n"
     ]
    }
   ],
   "source": [
    "sigmas = np.array([np.sqrt(0.3), np.sqrt(1.0), np.sqrt(1.0)])\n",
    "k = S.shape[0]\n",
    "n = X.shape[0]\n",
    "W = np.empty((n,k))\n",
    "for i in range(0,n):\n",
    "    for j in range(0,k):\n",
    "        numerator = liklihood(X[i], S[j], sigmas[j])\n",
    "        denom = 0\n",
    "        for l in range(0,k):\n",
    "            denom += liklihood(X[i], S[l], sigmas[l])\n",
    "        W[i][j] = numerator/denom\n",
    "for i in range(0,len(W)):\n",
    "    print(f\"w_{i+1} = {W[i]}\")"
   ]
  }
 ],
 "metadata": {
  "kernelspec": {
   "display_name": "Python 3.9.1 64-bit",
   "language": "python",
   "name": "python3"
  },
  "language_info": {
   "codemirror_mode": {
    "name": "ipython",
    "version": 3
   },
   "file_extension": ".py",
   "mimetype": "text/x-python",
   "name": "python",
   "nbconvert_exporter": "python",
   "pygments_lexer": "ipython3",
   "version": "3.9.1 (tags/v3.9.1:1e5d33e, Dec  7 2020, 17:08:21) [MSC v.1927 64 bit (AMD64)]"
  },
  "orig_nbformat": 4,
  "vscode": {
   "interpreter": {
    "hash": "c159ff16639e7709a56ca81ec8afaaa6150482356dfb759e7600fe6e8560a2a8"
   }
  }
 },
 "nbformat": 4,
 "nbformat_minor": 2
}
