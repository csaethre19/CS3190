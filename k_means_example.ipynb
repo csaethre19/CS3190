{
 "cells": [
  {
   "cell_type": "markdown",
   "metadata": {},
   "source": [
    "\n",
    "### Problem 2:"
   ]
  },
  {
   "cell_type": "code",
   "execution_count": 418,
   "metadata": {},
   "outputs": [
    {
     "data": {
      "image/png": "[encoded data removed]",
      "text/plain": [
       "<Figure size 432x288 with 1 Axes>"
      ]
     },
     "metadata": {
      "needs_background": "light"
     },
     "output_type": "display_data"
    }
   ],
   "source": [
    "import numpy as np \n",
    "import matplotlib.pyplot as plt\n",
    "\n",
    "data = np.array([[1,2],[2,1],[5,6],[6,5]])\n",
    "for datapoint in data:\n",
    "    plt.scatter(datapoint[0],datapoint[1], color='blue')\n",
    "plt.title(\"Simple Data set\")\n",
    "plt.show()"
   ]
  },
  {
   "cell_type": "code",
   "execution_count": 419,
   "metadata": {},
   "outputs": [],
   "source": [
    "def assignSite(xi, sites):\n",
    "    s1 = sites[0]\n",
    "    s_star = s1\n",
    "    s_index = 0\n",
    "    for i in range(sites.shape[0]):\n",
    "        newDistance = sites[i] - xi\n",
    "        normNewDistance = np.sqrt(newDistance[0]**2 + newDistance[1]**2)\n",
    "        starDistance = s_star - xi\n",
    "        normStarDistance = np.sqrt(starDistance[0]**2 + starDistance[1]**2)\n",
    "        if normNewDistance < normStarDistance:\n",
    "            s_star = sites[i]\n",
    "            s_index = i\n",
    "\n",
    "    return s_star, s_index"
   ]
  },
  {
   "cell_type": "code",
   "execution_count": 420,
   "metadata": {},
   "outputs": [],
   "source": [
    "def calculateCost(S, clusters):\n",
    "    cost = 0\n",
    "    for j in range(0,S.shape[0]):\n",
    "        for i in range(0,len(clusters[j])):\n",
    "            dist = clusters[j][i] - S[j]\n",
    "            cost += (dist[0]**2 + dist[1]**2)\n",
    "            \n",
    "    return cost"
   ]
  },
  {
   "cell_type": "code",
   "execution_count": 421,
   "metadata": {},
   "outputs": [],
   "source": [
    "def k_means(S, data):\n",
    "\n",
    "    for t in range(0,10):\n",
    "        clusters = []\n",
    "        for k in range(0,S.shape[0]):\n",
    "            clusters.append([])\n",
    "        for datapoint in data:\n",
    "            _, s_index = assignSite(datapoint, S)\n",
    "            #print(f\"iteration: {k}\")\n",
    "            #print(f\"datapoint {datapoint} assigned to site: {site}\")\n",
    "            clusters[s_index].append(datapoint)\n",
    "        for j in range(0,S.shape[0]):\n",
    "            update = 0\n",
    "            for i in range (0,len(clusters[j])):\n",
    "                update += clusters[j][i]\n",
    "            S[j] = update / len(clusters[j])\n",
    "            #print(f\"Updated S: {S}\")\n",
    "\n",
    "    return S, clusters"
   ]
  },
  {
   "cell_type": "markdown",
   "metadata": {},
   "source": [
    "Example of four points in $\\mathbb{R}^2$ with set S of k=2 sites where Lloyd's algorithm converges. "
   ]
  },
  {
   "cell_type": "code",
   "execution_count": 422,
   "metadata": {},
   "outputs": [
    {
     "name": "stdout",
     "output_type": "stream",
     "text": [
      "Initial sites: [[3 4]\n",
      " [4 3]]\n",
      "Final S:  [[3 4]\n",
      " [4 3]]\n",
      "Cost of S: 32\n"
     ]
    }
   ],
   "source": [
    "sData = data.copy()\n",
    "SubOptimalS = np.array([[3,4], [4,3]])\n",
    "print(f\"Initial sites: {SubOptimalS}\")\n",
    "SubOptimalS, sClusters = k_means(SubOptimalS, sData)\n",
    "print(\"Final S: \",SubOptimalS)\n",
    "cost = calculateCost(SubOptimalS, sClusters)\n",
    "print(f\"Cost of S: {cost}\")"
   ]
  },
  {
   "cell_type": "code",
   "execution_count": 423,
   "metadata": {},
   "outputs": [
    {
     "data": {
      "image/png": "[encoded data removed]",
      "text/plain": [
       "<Figure size 432x288 with 1 Axes>"
      ]
     },
     "metadata": {
      "needs_background": "light"
     },
     "output_type": "display_data"
    }
   ],
   "source": [
    "for datapoint in data:\n",
    "    plt.scatter(datapoint[0],datapoint[1], color='blue')\n",
    "for s in SubOptimalS:\n",
    "    plt.scatter(s[0],s[1], color='red', s=80)\n",
    "plt.title(\"Data set with sites from set SubOptimalS with cost: {0:.2f}\".format(cost))\n",
    "plt.show()"
   ]
  },
  {
   "cell_type": "markdown",
   "metadata": {},
   "source": [
    "Exmaple of same four points in $\\mathbb{R}^2$ with another set SPrime of k=2 sites where Lloyd's algorithm converges but has a cost less than that of S."
   ]
  },
  {
   "cell_type": "code",
   "execution_count": 424,
   "metadata": {},
   "outputs": [
    {
     "name": "stdout",
     "output_type": "stream",
     "text": [
      "Initial sites: [[1 2]\n",
      " [5 6]]\n",
      "Final S:  [[1 1]\n",
      " [5 5]]\n",
      "Cost of sPrime: 4\n"
     ]
    }
   ],
   "source": [
    "primeData = data.copy()\n",
    "SPrime = np.array([primeData[0], primeData[2]])\n",
    "print(f\"Initial sites: {SPrime}\")\n",
    "SPrime, primeClusters = k_means(SPrime, primeData)\n",
    "print(\"Final S: \",SPrime)\n",
    "cost = calculateCost(SPrime, primeClusters)\n",
    "print(f\"Cost of sPrime: {cost}\")"
   ]
  },
  {
   "cell_type": "code",
   "execution_count": 425,
   "metadata": {},
   "outputs": [
    {
     "data": {
      "image/png": "[encoded data removed]",
      "text/plain": [
       "<Figure size 432x288 with 1 Axes>"
      ]
     },
     "metadata": {
      "needs_background": "light"
     },
     "output_type": "display_data"
    }
   ],
   "source": [
    "for datapoint in data:\n",
    "    plt.scatter(datapoint[0],datapoint[1], color='blue')\n",
    "for s in SPrime:\n",
    "    plt.scatter(s[0],s[1],color='red', s=80)\n",
    "plt.title(\"Data set with sites from set SPrime with cost: {0:.2f}\".format(cost))\n",
    "plt.show()"
   ]
  },
  {
   "cell_type": "markdown",
   "metadata": {},
   "source": [
    "We see that Cost(SPrime, (X,y)) < Cost(S, (X,y)) with both having converged. Lloyd's algorithm is not deterministic. Depending on your initialization you will have different results which do no guarantee the optimal solution. "
   ]
  }
 ],
 "metadata": {
  "kernelspec": {
   "display_name": "Python 3",
   "language": "python",
   "name": "python3"
  },
  "language_info": {
   "codemirror_mode": {
    "name": "ipython",
    "version": 3
   },
   "file_extension": ".py",
   "mimetype": "text/x-python",
   "name": "python",
   "nbconvert_exporter": "python",
   "pygments_lexer": "ipython3",
   "version": "3.9.1"
  },
  "vscode": {
   "interpreter": {
    "hash": "c159ff16639e7709a56ca81ec8afaaa6150482356dfb759e7600fe6e8560a2a8"
   }
  }
 },
 "nbformat": 4,
 "nbformat_minor": 2
}
